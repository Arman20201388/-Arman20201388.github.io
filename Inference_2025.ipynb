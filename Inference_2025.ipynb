{
  "nbformat": 4,
  "nbformat_minor": 0,
  "metadata": {
    "colab": {
      "provenance": [],
      "collapsed_sections": [
        "2aJhDD5QvOzo"
      ],
      "gpuType": "T4"
    },
    "kernelspec": {
      "name": "python3",
      "display_name": "Python 3"
    },
    "language_info": {
      "name": "python"
    },
    "accelerator": "GPU"
  },
  "cells": [
    {
      "cell_type": "markdown",
      "source": [
        "# Install"
      ],
      "metadata": {
        "id": "2aJhDD5QvOzo"
      }
    },
    {
      "cell_type": "code",
      "source": [
        "\n",
        "# @title Mount Google Drive\n",
        "from google.colab import drive\n",
        "\n",
        "drive.mount(\"/content/drive\")"
      ],
      "metadata": {
        "cellView": "form",
        "id": "GEuAhIKcvSux",
        "colab": {
          "base_uri": "https://localhost:8080/",
          "height": 0
        },
        "outputId": "b3b5057f-78c3-48b4-9619-ad55e9349025"
      },
      "execution_count": 1,
      "outputs": [
        {
          "output_type": "error",
          "ename": "ValueError",
          "evalue": "mount failed",
          "traceback": [
            "\u001b[0;31m---------------------------------------------------------------------------\u001b[0m",
            "\u001b[0;31mValueError\u001b[0m                                Traceback (most recent call last)",
            "\u001b[0;32m/tmp/ipython-input-319527718.py\u001b[0m in \u001b[0;36m<cell line: 0>\u001b[0;34m()\u001b[0m\n\u001b[1;32m      2\u001b[0m \u001b[0;32mfrom\u001b[0m \u001b[0mgoogle\u001b[0m\u001b[0;34m.\u001b[0m\u001b[0mcolab\u001b[0m \u001b[0;32mimport\u001b[0m \u001b[0mdrive\u001b[0m\u001b[0;34m\u001b[0m\u001b[0;34m\u001b[0m\u001b[0m\n\u001b[1;32m      3\u001b[0m \u001b[0;34m\u001b[0m\u001b[0m\n\u001b[0;32m----> 4\u001b[0;31m \u001b[0mdrive\u001b[0m\u001b[0;34m.\u001b[0m\u001b[0mmount\u001b[0m\u001b[0;34m(\u001b[0m\u001b[0;34m\"/content/drive\"\u001b[0m\u001b[0;34m)\u001b[0m\u001b[0;34m\u001b[0m\u001b[0;34m\u001b[0m\u001b[0m\n\u001b[0m",
            "\u001b[0;32m/usr/local/lib/python3.12/dist-packages/google/colab/drive.py\u001b[0m in \u001b[0;36mmount\u001b[0;34m(mountpoint, force_remount, timeout_ms, readonly)\u001b[0m\n\u001b[1;32m     95\u001b[0m \u001b[0;32mdef\u001b[0m \u001b[0mmount\u001b[0m\u001b[0;34m(\u001b[0m\u001b[0mmountpoint\u001b[0m\u001b[0;34m,\u001b[0m \u001b[0mforce_remount\u001b[0m\u001b[0;34m=\u001b[0m\u001b[0;32mFalse\u001b[0m\u001b[0;34m,\u001b[0m \u001b[0mtimeout_ms\u001b[0m\u001b[0;34m=\u001b[0m\u001b[0;36m120000\u001b[0m\u001b[0;34m,\u001b[0m \u001b[0mreadonly\u001b[0m\u001b[0;34m=\u001b[0m\u001b[0;32mFalse\u001b[0m\u001b[0;34m)\u001b[0m\u001b[0;34m:\u001b[0m\u001b[0;34m\u001b[0m\u001b[0;34m\u001b[0m\u001b[0m\n\u001b[1;32m     96\u001b[0m   \u001b[0;34m\"\"\"Mount your Google Drive at the specified mountpoint path.\"\"\"\u001b[0m\u001b[0;34m\u001b[0m\u001b[0;34m\u001b[0m\u001b[0m\n\u001b[0;32m---> 97\u001b[0;31m   return _mount(\n\u001b[0m\u001b[1;32m     98\u001b[0m       \u001b[0mmountpoint\u001b[0m\u001b[0;34m,\u001b[0m\u001b[0;34m\u001b[0m\u001b[0;34m\u001b[0m\u001b[0m\n\u001b[1;32m     99\u001b[0m       \u001b[0mforce_remount\u001b[0m\u001b[0;34m=\u001b[0m\u001b[0mforce_remount\u001b[0m\u001b[0;34m,\u001b[0m\u001b[0;34m\u001b[0m\u001b[0;34m\u001b[0m\u001b[0m\n",
            "\u001b[0;32m/usr/local/lib/python3.12/dist-packages/google/colab/drive.py\u001b[0m in \u001b[0;36m_mount\u001b[0;34m(mountpoint, force_remount, timeout_ms, ephemeral, readonly)\u001b[0m\n\u001b[1;32m    270\u001b[0m             \u001b[0;34m'https://research.google.com/colaboratory/faq.html#drive-timeout'\u001b[0m\u001b[0;34m\u001b[0m\u001b[0;34m\u001b[0m\u001b[0m\n\u001b[1;32m    271\u001b[0m         )\n\u001b[0;32m--> 272\u001b[0;31m       \u001b[0;32mraise\u001b[0m \u001b[0mValueError\u001b[0m\u001b[0;34m(\u001b[0m\u001b[0;34m'mount failed'\u001b[0m \u001b[0;34m+\u001b[0m \u001b[0mextra_reason\u001b[0m\u001b[0;34m)\u001b[0m\u001b[0;34m\u001b[0m\u001b[0;34m\u001b[0m\u001b[0m\n\u001b[0m\u001b[1;32m    273\u001b[0m     \u001b[0;32melif\u001b[0m \u001b[0mcase\u001b[0m \u001b[0;34m==\u001b[0m \u001b[0;36m4\u001b[0m\u001b[0;34m:\u001b[0m\u001b[0;34m\u001b[0m\u001b[0;34m\u001b[0m\u001b[0m\n\u001b[1;32m    274\u001b[0m       \u001b[0;31m# Terminate the DriveFS binary before killing bash.\u001b[0m\u001b[0;34m\u001b[0m\u001b[0;34m\u001b[0m\u001b[0m\n",
            "\u001b[0;31mValueError\u001b[0m: mount failed"
          ]
        }
      ]
    },
    {
      "cell_type": "code",
      "source": [
        "\n",
        "# @title Clone\n",
        "!git clone https://github.com/yaranbarzi/Applio --branch 3.2.9 --single-branch\n",
        "%cd /content/Applio"
      ],
      "metadata": {
        "cellView": "form",
        "id": "DuZ675I7vZYR"
      },
      "execution_count": null,
      "outputs": []
    },
    {
      "cell_type": "code",
      "source": [
        "\n",
        "# @title Install\n",
        "\n",
        "!sudo apt update\n",
        "!sudo apt install python3.10\n",
        "!sudo update-alternatives --install /usr/bin/python3 python3 /usr/bin/python3.10 1\n",
        "!sudo update-alternatives --set python3 /usr/bin/python3.10\n",
        "!curl -sS https://bootstrap.pypa.io/get-pip.py | python3\n",
        "import sys\n",
        "sys.path.append('/usr/local/lib/python3.10/dist-packages')\n",
        "\n",
        "rot_47 = lambda encoded_text: \"\".join(\n",
        "    [\n",
        "        (\n",
        "            chr(\n",
        "                (ord(c) - (ord(\"a\") if c.islower() else ord(\"A\")) - 47) % 26\n",
        "                + (ord(\"a\") if c.islower() else ord(\"A\"))\n",
        "            )\n",
        "            if c.isalpha()\n",
        "            else c\n",
        "        )\n",
        "        for c in encoded_text\n",
        "    ]\n",
        ")\n",
        "\n",
        "!pip install uv\n",
        "from IPython.display import clear_output\n",
        "clear_output()\n",
        "print(\"Installing requirements...\")\n",
        "!uv pip install torch==2.7.0 torchvision torchaudio==2.7.0 --upgrade --index-url https://download.pytorch.org/whl/cu128 -q\n",
        "!uv pip install -r requirements.txt -q\n",
        "clear_output()\n",
        "print(\"Finished installing requirements! \")"
      ],
      "metadata": {
        "cellView": "form",
        "id": "7Q1RB68Pvfg7"
      },
      "execution_count": null,
      "outputs": []
    },
    {
      "cell_type": "code",
      "source": [
        "\n",
        "# @title Download models\n",
        "!python core.py \"prerequisites\" --models \"True\" --exe \"True\"  --pretraineds_hifigan \"True\""
      ],
      "metadata": {
        "cellView": "form",
        "id": "_ZBMreMzvpCa"
      },
      "execution_count": null,
      "outputs": []
    },
    {
      "cell_type": "markdown",
      "source": [
        "# Infer"
      ],
      "metadata": {
        "id": "4Tn_WoHYvruz"
      }
    },
    {
      "cell_type": "code",
      "source": [
        "\n",
        "# @title Download model\n",
        "# @markdown Hugging Face or Google Drive\n",
        "model_link = \"https://drive.google.com/file/d/15t0QOye_o5ha6QqTpiSqiex1CRHlLFW6/view?usp=sharing\"  # @param {type:\"string\"}\n",
        "\n",
        "!python core.py download --model_link \"{model_link}\""
      ],
      "metadata": {
        "cellView": "form",
        "id": "sBqTMPlcvvt1"
      },
      "execution_count": null,
      "outputs": []
    },
    {
      "cell_type": "code",
      "source": [
        "\n",
        "\n",
        "# @title 🎤 Run Inference (Simplified)\n",
        "\n",
        "#@markdown ---\n",
        "#@markdown ### ۱. تنظیمات اصلی\n",
        "#@markdown نام مدلی که در سلول قبل زیپ کردید (بدون پسوند .zip)\n",
        "model_name = \"\"  # @param {type:\"string\"}\n",
        "#@markdown مسیر کامل فایل صوتی که می‌خواهید صدایش را تغییر دهید.\n",
        "input_path = \"\"  # @param {type:\"string\"}\n",
        "#@markdown فرمت فایل خروجی نهایی\n",
        "export_format = \"WAV\"  # @param ['WAV', 'MP3', 'FLAC', 'OGG', 'M4A']\n",
        "\n",
        "#@markdown ---\n",
        "#@markdown ### ۲. تنظیمات تبدیل صدا\n",
        "#@markdown تغییر زیر و بمی صدا (Pitch). اعداد مثبت صدا را زیرتر و اعداد منفی آن را بم‌تر می‌کنند.\n",
        "f0_up_key = 0  # @param {type:\"slider\", min:-24, max:24, step:1}\n",
        "#@markdown میزان اعمال ویژگی‌های صدای مدل. مقادیر کمتر می‌تواند به کاهش آرتیفکت کمک کند.\n",
        "index_rate = 0.5  # @param {type:\"slider\", min:0.0, max:1.0, step:0.05}\n",
        "#@markdown متد استخراج Pitch. Rmvpe معمولاً بهترین کیفیت را دارد.\n",
        "f0_method = \"rmvpe\"  # @param [\"rmvpe\", \"crepe\", \"crepe-tiny\"]\n",
        "\n",
        "#@markdown ---\n",
        "#@markdown ### ۳. تنظیمات پیشرفته\n",
        "#@markdown اگر فایل صوتی ورودی بسیار طولانی است، این گزینه را فعال کنید.\n",
        "split_audio = False  # @param{type:\"boolean\"}\n",
        "\n",
        "# ------------------- Internal Settings (Hardcoded for simplicity) -------------------\n",
        "# این مقادیر روی حالت بهینه تنظیم شده و از UI حذف شده‌اند.\n",
        "rms_mix_rate = 0.8\n",
        "protect = 0.5\n",
        "hop_length = 128\n",
        "clean_audio = False\n",
        "clean_strength = 0.7\n",
        "f0_autotune = False\n",
        "formant_shift = False\n",
        "formant_qfrency = 1.0\n",
        "formant_timbre = 1.0\n",
        "embedder_model = \"contentvec\"\n",
        "embedder_model_custom = \"\"\n",
        "output_path = \"/content/output.wav\"\n",
        "# Disable all post-processing effects\n",
        "post_process = False\n",
        "# ------------------------------------------------------------------------------------\n",
        "\n",
        "import os\n",
        "from IPython.display import Audio, display, clear_output\n",
        "\n",
        "# Find model and index files automatically\n",
        "model_folder = f\"/content/Applio/logs/{model_name}\"\n",
        "\n",
        "if not os.path.exists(model_folder):\n",
        "    raise FileNotFoundError(f\"خطا: پوشه مدل '{model_folder}' پیدا نشد. لطفاً از درستی نام مدل مطمئن شوید.\")\n",
        "\n",
        "try:\n",
        "    files_in_folder = os.listdir(model_folder)\n",
        "    pth_file_name = next((f for f in files_in_folder if f.endswith(\".pth\")), None)\n",
        "    index_file_name = next((f for f in files_in_folder if f.endswith(\".index\")), None)\n",
        "\n",
        "    if pth_file_name is None or index_file_name is None:\n",
        "        raise FileNotFoundError(\"فایل مدل (.pth) یا فایل ایندکس (.index) در پوشه پیدا نشد.\")\n",
        "\n",
        "    pth_path = os.path.join(model_folder, pth_file_name)\n",
        "    index_path = os.path.join(model_folder, index_file_name)\n",
        "\n",
        "    print(\"✅ فایل‌های مدل با موفقیت پیدا شدند:\")\n",
        "    print(f\"   > Model: {pth_file_name}\")\n",
        "    print(f\"   > Index: {index_file_name}\")\n",
        "    print(\"\\nدر حال اجرای تبدیل صدا...\")\n",
        "\n",
        "    # Run the inference command\n",
        "    !python core.py infer \\\n",
        "        --pitch \"{f0_up_key}\" \\\n",
        "        --volume_envelope \"{rms_mix_rate}\" \\\n",
        "        --index_rate \"{index_rate}\" \\\n",
        "        --hop_length \"{hop_length}\" \\\n",
        "        --protect \"{protect}\" \\\n",
        "        --f0_autotune \"{f0_autotune}\" \\\n",
        "        --f0_method \"{f0_method}\" \\\n",
        "        --input_path \"{input_path}\" \\\n",
        "        --output_path \"{output_path}\" \\\n",
        "        --pth_path \"{pth_path}\" \\\n",
        "        --index_path \"{index_path}\" \\\n",
        "        --split_audio \"{split_audio}\" \\\n",
        "        --clean_audio \"{clean_audio}\" \\\n",
        "        --clean_strength \"{clean_strength}\" \\\n",
        "        --export_format \"{export_format}\" \\\n",
        "        --embedder_model \"{embedder_model}\" \\\n",
        "        --embedder_model_custom \"{embedder_model_custom}\" \\\n",
        "        --formant_shifting \"{formant_shift}\" \\\n",
        "        --formant_qfrency \"{formant_qfrency}\" \\\n",
        "        --formant_timbre \"{formant_timbre}\" \\\n",
        "        --post_process \"{post_process}\"\n",
        "\n",
        "    # Display the output audio\n",
        "    final_output_path = f\"/content/output.{export_format.lower()}\"\n",
        "    if os.path.exists(final_output_path):\n",
        "        clear_output()\n",
        "        print(f\"✅ تبدیل صدا با موفقیت انجام شد! فایل خروجی:\")\n",
        "        display(Audio(final_output_path, autoplay=True))\n",
        "    else:\n",
        "        print(\"❌ خطا: فایل خروجی ایجاد نشد. لطفاً لاگ‌های بالا را برای یافتن خطا بررسی کنید.\")\n",
        "\n",
        "except FileNotFoundError as e:\n",
        "    print(e)\n",
        "except Exception as e:\n",
        "    print(f\"یک خطای غیرمنتظره رخ داد: {e}\")"
      ],
      "metadata": {
        "cellView": "form",
        "id": "u0fDPxDawA1c"
      },
      "execution_count": null,
      "outputs": []
    }
  ]
}